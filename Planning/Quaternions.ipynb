{
 "cells": [
  {
   "cell_type": "markdown",
   "metadata": {},
   "source": [
    "## Quaternions\n"
   ]
  },
  {
   "cell_type": "markdown",
   "metadata": {},
   "source": [
    "In the following exercise you'll implement functions to convert between Euler angles and quaternion representations. It's useful to be able to easily navigate back and forth between these representations because of their relative strengths. Quaternions are better for calculations, while Euler angles are far more intuitive.\n",
    "\n",
    "Some messages coming from your drone in simulation (or in the real world) will represent orientation data as a quaternion, while others use Euler angles. So it's a good idea to be able to seamlessly handle both. \n",
    "\n",
    "The [`udacidrone` API imlementation](https://github.com/udacity/udacidrone/blob/master/udacidrone/connection/message_types.py#L189-L284) that you're using for the projects in this program already has these conversions implemented under the hood so that's a great place to start if you aren't sure how to complete this exercise!"
   ]
  },
  {
   "cell_type": "code",
   "execution_count": null,
   "metadata": {},
   "outputs": [],
   "source": [
    "import numpy as np\n",
    "\n",
    "def euler_to_quaternion(angles):\n",
    "    roll = angles[0]\n",
    "    pitch = angles[1]\n",
    "    yaw = angles[2]\n",
    "    \n",
    "\n",
    "    # TODO: complete the conversion\n",
    "    # and return a numpy array of\n",
    "    # 4 elements representing a quaternion [a, b, c, d]\n",
    "\n",
    "def quaternion_to_euler(quaternion):\n",
    "    a = quaternion[0]\n",
    "    b = quaternion[1]\n",
    "    c = quaternion[2]\n",
    "    d = quaternion[3]\n",
    "    \n",
    "    # TODO: complete the conversion\n",
    "    # and return a numpy array of\n",
    "    # 3 element representing the euler angles [roll, pitch, yaw]"
   ]
  },
  {
   "cell_type": "markdown",
   "metadata": {},
   "source": [
    "Test the conversion."
   ]
  },
  {
   "cell_type": "code",
   "execution_count": null,
   "metadata": {},
   "outputs": [],
   "source": [
    "euler = np.array([np.deg2rad(90), np.deg2rad(30), np.deg2rad(0)])\n",
    "\n",
    "q = euler_to_quaternion(euler) # should be [ 0.683  0.683  0.183 -0.183]\n",
    "print(q)\n",
    "\n",
    "assert np.allclose(euler, quaternion_to_euler(q))"
   ]
  },
  {
   "cell_type": "markdown",
   "metadata": {},
   "source": [
    "Here's our [solution](/notebooks/Quaternions-Solution.ipynb)!"
   ]
  },
  {
   "cell_type": "code",
   "execution_count": null,
   "metadata": {},
   "outputs": [],
   "source": []
  }
 ],
 "metadata": {
  "kernelspec": {
   "display_name": "Python 2",
   "language": "python",
   "name": "python2"
  },
  "language_info": {
   "codemirror_mode": {
    "name": "ipython",
    "version": 2
   },
   "file_extension": ".py",
   "mimetype": "text/x-python",
   "name": "python",
   "nbconvert_exporter": "python",
   "pygments_lexer": "ipython2",
   "version": "2.7.17"
  }
 },
 "nbformat": 4,
 "nbformat_minor": 2
}
