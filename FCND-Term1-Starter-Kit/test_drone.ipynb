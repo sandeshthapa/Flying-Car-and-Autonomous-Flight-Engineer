{
 "cells": [
  {
   "cell_type": "markdown",
   "id": "e782a88e",
   "metadata": {},
   "source": [
    "# Initialize the Drone \n",
    "\n",
    "Now you can initialize the drone with the following commands:\n",
    "\n"
   ]
  },
  {
   "cell_type": "code",
   "execution_count": 24,
   "id": "e97f6d76",
   "metadata": {},
   "outputs": [
    {
     "name": "stdout",
     "output_type": "stream",
     "text": [
      "Logs/TLog.txt\n"
     ]
    }
   ],
   "source": [
    "import time\n",
    "\n",
    "from udacidrone import Drone\n",
    "from udacidrone.connection import MavlinkConnection\n",
    "conn = MavlinkConnection('tcp:127.0.0.1:5760', threaded=True)\n",
    "drone = Drone(conn)\n",
    "drone.start()"
   ]
  },
  {
   "cell_type": "markdown",
   "id": "5e6204a3",
   "metadata": {},
   "source": [
    "# Take Control and Arm the Drone \n",
    "\n",
    "Now take control of the drone and arm the rotors. Briefly pause in between executing code snippets as running them in immediate succession can cause strange drone behavior within the simulator.\n"
   ]
  },
  {
   "cell_type": "code",
   "execution_count": 25,
   "id": "9159bc61",
   "metadata": {},
   "outputs": [],
   "source": [
    "drone.take_control()\n",
    "drone.arm()"
   ]
  },
  {
   "cell_type": "markdown",
   "id": "3d1338d3",
   "metadata": {},
   "source": [
    "# Navigation \n",
    "Now set the drone's \"home position\""
   ]
  },
  {
   "cell_type": "code",
   "execution_count": 26,
   "id": "cce98ebe",
   "metadata": {},
   "outputs": [],
   "source": [
    "drone.set_home_position(drone.global_position[0], \n",
    "                        drone.global_position[1], \n",
    "                        drone.global_position[2])"
   ]
  },
  {
   "cell_type": "markdown",
   "id": "bfa9e3c7",
   "metadata": {},
   "source": [
    "# And now you can take off (to a height of 3 meters)!\n",
    "And now you can take off (to a height of 3 meters)!\n"
   ]
  },
  {
   "cell_type": "code",
   "execution_count": 27,
   "id": "b85eefe8",
   "metadata": {},
   "outputs": [],
   "source": [
    "drone.takeoff(3)\n"
   ]
  },
  {
   "cell_type": "markdown",
   "id": "9559aab5",
   "metadata": {},
   "source": [
    "# Desired Pos\n",
    "Once you're in the air, you can fly around by commanding the drone to waypoints.\n"
   ]
  },
  {
   "cell_type": "code",
   "execution_count": 28,
   "id": "c9e57881",
   "metadata": {},
   "outputs": [],
   "source": [
    "drone.cmd_position(5,0,3,0)"
   ]
  },
  {
   "cell_type": "markdown",
   "id": "555ef8dd",
   "metadata": {},
   "source": [
    "# Go Home \n"
   ]
  },
  {
   "cell_type": "code",
   "execution_count": 29,
   "id": "45103f52",
   "metadata": {},
   "outputs": [],
   "source": [
    "drone.cmd_position(0,0, 0,0)\n",
    "# drone.disarm()"
   ]
  },
  {
   "cell_type": "code",
   "execution_count": 30,
   "id": "f5c619e3",
   "metadata": {},
   "outputs": [
    {
     "name": "stdout",
     "output_type": "stream",
     "text": [
      "Waited for 20 seconds.\n",
      "Closing connection ...\n"
     ]
    }
   ],
   "source": [
    "# Disarm \n",
    "drone.disarm() \n",
    "\n",
    "import time\n",
    "\n",
    "# Wait for 20 seconds\n",
    "time.sleep(20)\n",
    "\n",
    "print(\"Waited for 20 seconds.\")\n",
    "\n",
    "\n",
    "drone.stop()"
   ]
  },
  {
   "cell_type": "code",
   "execution_count": null,
   "id": "7c8fef6c",
   "metadata": {},
   "outputs": [],
   "source": []
  }
 ],
 "metadata": {
  "kernelspec": {
   "display_name": "Python 3 (ipykernel)",
   "language": "python",
   "name": "python3"
  },
  "language_info": {
   "codemirror_mode": {
    "name": "ipython",
    "version": 3
   },
   "file_extension": ".py",
   "mimetype": "text/x-python",
   "name": "python",
   "nbconvert_exporter": "python",
   "pygments_lexer": "ipython3",
   "version": "3.6.3"
  }
 },
 "nbformat": 4,
 "nbformat_minor": 5
}
